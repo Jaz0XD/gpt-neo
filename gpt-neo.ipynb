{
 "cells": [
  {
   "cell_type": "code",
   "execution_count": 1,
   "metadata": {},
   "outputs": [
    {
     "name": "stderr",
     "output_type": "stream",
     "text": [
      "c:\\Python311\\Lib\\site-packages\\tqdm\\auto.py:22: TqdmWarning: IProgress not found. Please update jupyter and ipywidgets. See https://ipywidgets.readthedocs.io/en/stable/user_install.html\n",
      "  from .autonotebook import tqdm as notebook_tqdm\n"
     ]
    }
   ],
   "source": [
    "from transformers import pipeline, AutoTokenizer, AutoModelForCausalLM"
   ]
  },
  {
   "cell_type": "code",
   "execution_count": 2,
   "metadata": {},
   "outputs": [],
   "source": [
    "#device = 'cuda' if torch.cuda.is_available() else 'cpu'\n",
    "\n",
    "\n",
    "model_directory = \"./gpt-neo-2.7B\"\n",
    "\n",
    "tokenizer = AutoTokenizer.from_pretrained(\"EleutherAI/gpt-neo-2.7B\")\n",
    "model = AutoModelForCausalLM.from_pretrained(\"EleutherAI/gpt-neo-2.7B\")\n",
    "\n",
    "tokenizer.save_pretrained(model_directory)\n",
    "model.save_pretrained(model_directory)"
   ]
  },
  {
   "cell_type": "code",
   "execution_count": 3,
   "metadata": {},
   "outputs": [],
   "source": [
    "prompt = \"Write my a birthday wish for a girl who just turned 17\""
   ]
  },
  {
   "cell_type": "code",
   "execution_count": 4,
   "metadata": {},
   "outputs": [
    {
     "name": "stderr",
     "output_type": "stream",
     "text": [
      "Hardware accelerator e.g. GPU is available in the environment, but no `device` argument is passed to the `Pipeline` object. Model will be on CPU.\n"
     ]
    }
   ],
   "source": [
    "generator = pipeline('text-generation', model=model, tokenizer=tokenizer)"
   ]
  },
  {
   "cell_type": "code",
   "execution_count": 5,
   "metadata": {},
   "outputs": [
    {
     "name": "stderr",
     "output_type": "stream",
     "text": [
      "Setting `pad_token_id` to `eos_token_id`:50256 for open-end generation.\n"
     ]
    }
   ],
   "source": [
    "res = generator(prompt, max_length=500,truncation=True, do_sample=True, temperature=0.9)"
   ]
  },
  {
   "cell_type": "code",
   "execution_count": 21,
   "metadata": {},
   "outputs": [
    {
     "name": "stdout",
     "output_type": "stream",
     "text": [
      "Write my a birthday wish for a girl who just turned 17. She's a virgin, but she's really special. She's never done anything that would be shameful to do. She likes the movies. She likes the idea of being with a guy. I don't want to be the guy. She's got a great personality. Her last name is Wilson.\n",
      "\n",
      "What is it that a virgin likes? Sex? It's no use to be a virgin if you can't have sex, is it? Maybe the answer is sex that doesn't feel like real, honest, true, or even semi-reliable sex, like sex that's been done many times. Or sex that involves a lot of drama and tension and is really just \"a matter of\" or \"an excuse\" or, say, \"a moment\" or \"a good time.\" Sex without any emotional connection doesn't count as a sex life. Sex without feelings makes you a non-sexual person, and I know I'm not the only one. I like lots of sex; I like lots of sex the way I like them, and I like them without all the emotional stuff. They make me feel good. Some of them are sweet, some are rough, but all of them are good for me.\n",
      "\n",
      "Sex that doesn't have any emotional involvement counts as a sex life, and I don't go out with men who are willing to have sex without feeling anything. I go out with men who want my body to feel good. I don't think it's fair to make someone like their body without giving them a feeling. Some of my favorite sex is when it just feels good, feels right, makes me feel good while giving me a sense of self-respect, and I let it all go to my headBlack leather pants and a tight topSex without any emotional involvement counts as a sex life, and I don't go out with men who are willing to have sex without feeling anything. I go out with men who want my body to feel good. I don't think it's fair to make someone like their body without giving them a feeling. Some of my favorite sex is when it just feels good, feels right, makes me feel good while giving me a sense of self-respect, and I let it all go to my head\n",
      "\n",
      "You can't have sex without feelings. You can't have a real sex life without feeling something, and you can't feel something without feeling\n"
     ]
    }
   ],
   "source": [
    "print(res[0]['generated_text'])"
   ]
  },
  {
   "cell_type": "code",
   "execution_count": 22,
   "metadata": {},
   "outputs": [],
   "source": [
    "with open('gpttext.txt', 'w') as f:\n",
    "    f.writelines(res[0]['generated_text'])"
   ]
  },
  {
   "cell_type": "code",
   "execution_count": null,
   "metadata": {},
   "outputs": [],
   "source": []
  }
 ],
 "metadata": {
  "kernelspec": {
   "display_name": "Python 3",
   "language": "python",
   "name": "python3"
  },
  "language_info": {
   "codemirror_mode": {
    "name": "ipython",
    "version": 3
   },
   "file_extension": ".py",
   "mimetype": "text/x-python",
   "name": "python",
   "nbconvert_exporter": "python",
   "pygments_lexer": "ipython3",
   "version": "3.11.1"
  }
 },
 "nbformat": 4,
 "nbformat_minor": 2
}
